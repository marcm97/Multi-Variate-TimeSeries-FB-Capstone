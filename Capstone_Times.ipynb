{
  "nbformat": 4,
  "nbformat_minor": 0,
  "metadata": {
    "colab": {
      "name": "Capstone - Times.ipynb",
      "provenance": [],
      "collapsed_sections": []
    },
    "kernelspec": {
      "name": "python3",
      "display_name": "Python 3"
    },
    "language_info": {
      "name": "python"
    }
  },
  "cells": [
    {
      "cell_type": "code",
      "source": [
        "!pip install sktime"
      ],
      "metadata": {
        "colab": {
          "base_uri": "https://localhost:8080/"
        },
        "id": "T1yOEBDCQ22O",
        "outputId": "e392cf7d-e004-40f0-8233-1c8421cfa5a3"
      },
      "execution_count": null,
      "outputs": [
        {
          "output_type": "stream",
          "name": "stdout",
          "text": [
            "Collecting sktime\n",
            "  Downloading sktime-0.10.1-py3-none-any.whl (6.5 MB)\n",
            "\u001b[K     |████████████████████████████████| 6.5 MB 5.2 MB/s \n",
            "\u001b[?25hCollecting deprecated>=1.2.13\n",
            "  Downloading Deprecated-1.2.13-py2.py3-none-any.whl (9.6 kB)\n",
            "Requirement already satisfied: numpy<1.22,>=1.21.0 in /usr/local/lib/python3.7/dist-packages (from sktime) (1.21.5)\n",
            "Requirement already satisfied: pandas<1.5.0,>=1.1.0 in /usr/local/lib/python3.7/dist-packages (from sktime) (1.3.5)\n",
            "Collecting statsmodels>=0.12.1\n",
            "  Downloading statsmodels-0.13.2-cp37-cp37m-manylinux_2_17_x86_64.manylinux2014_x86_64.whl (9.8 MB)\n",
            "\u001b[K     |████████████████████████████████| 9.8 MB 42.0 MB/s \n",
            "\u001b[?25hRequirement already satisfied: scikit-learn>=0.24.0 in /usr/local/lib/python3.7/dist-packages (from sktime) (1.0.2)\n",
            "Requirement already satisfied: scipy<1.8.0 in /usr/local/lib/python3.7/dist-packages (from sktime) (1.4.1)\n",
            "Collecting numba>=0.53\n",
            "  Downloading numba-0.55.1-1-cp37-cp37m-manylinux2014_x86_64.manylinux_2_17_x86_64.whl (3.3 MB)\n",
            "\u001b[K     |████████████████████████████████| 3.3 MB 38.7 MB/s \n",
            "\u001b[?25hRequirement already satisfied: wrapt<2,>=1.10 in /usr/local/lib/python3.7/dist-packages (from deprecated>=1.2.13->sktime) (1.13.3)\n",
            "Collecting llvmlite<0.39,>=0.38.0rc1\n",
            "  Downloading llvmlite-0.38.0-cp37-cp37m-manylinux_2_17_x86_64.manylinux2014_x86_64.whl (34.5 MB)\n",
            "\u001b[K     |████████████████████████████████| 34.5 MB 13 kB/s \n",
            "\u001b[?25hRequirement already satisfied: setuptools in /usr/local/lib/python3.7/dist-packages (from numba>=0.53->sktime) (57.4.0)\n",
            "Requirement already satisfied: python-dateutil>=2.7.3 in /usr/local/lib/python3.7/dist-packages (from pandas<1.5.0,>=1.1.0->sktime) (2.8.2)\n",
            "Requirement already satisfied: pytz>=2017.3 in /usr/local/lib/python3.7/dist-packages (from pandas<1.5.0,>=1.1.0->sktime) (2018.9)\n",
            "Requirement already satisfied: six>=1.5 in /usr/local/lib/python3.7/dist-packages (from python-dateutil>=2.7.3->pandas<1.5.0,>=1.1.0->sktime) (1.15.0)\n",
            "Requirement already satisfied: threadpoolctl>=2.0.0 in /usr/local/lib/python3.7/dist-packages (from scikit-learn>=0.24.0->sktime) (3.1.0)\n",
            "Requirement already satisfied: joblib>=0.11 in /usr/local/lib/python3.7/dist-packages (from scikit-learn>=0.24.0->sktime) (1.1.0)\n",
            "Requirement already satisfied: patsy>=0.5.2 in /usr/local/lib/python3.7/dist-packages (from statsmodels>=0.12.1->sktime) (0.5.2)\n",
            "Requirement already satisfied: packaging>=21.3 in /usr/local/lib/python3.7/dist-packages (from statsmodels>=0.12.1->sktime) (21.3)\n",
            "Requirement already satisfied: pyparsing!=3.0.5,>=2.0.2 in /usr/local/lib/python3.7/dist-packages (from packaging>=21.3->statsmodels>=0.12.1->sktime) (3.0.7)\n",
            "Installing collected packages: llvmlite, statsmodels, numba, deprecated, sktime\n",
            "  Attempting uninstall: llvmlite\n",
            "    Found existing installation: llvmlite 0.34.0\n",
            "    Uninstalling llvmlite-0.34.0:\n",
            "      Successfully uninstalled llvmlite-0.34.0\n",
            "  Attempting uninstall: statsmodels\n",
            "    Found existing installation: statsmodels 0.10.2\n",
            "    Uninstalling statsmodels-0.10.2:\n",
            "      Successfully uninstalled statsmodels-0.10.2\n",
            "  Attempting uninstall: numba\n",
            "    Found existing installation: numba 0.51.2\n",
            "    Uninstalling numba-0.51.2:\n",
            "      Successfully uninstalled numba-0.51.2\n",
            "Successfully installed deprecated-1.2.13 llvmlite-0.38.0 numba-0.55.1 sktime-0.10.1 statsmodels-0.13.2\n"
          ]
        }
      ]
    },
    {
      "cell_type": "markdown",
      "source": [
        ""
      ],
      "metadata": {
        "id": "W2MjYowAQ2gs"
      }
    },
    {
      "cell_type": "code",
      "execution_count": null,
      "metadata": {
        "id": "XnPWZ_JLQv2h"
      },
      "outputs": [],
      "source": [
        "import time\n",
        "import numpy as np\n",
        "import pandas as pd\n",
        "from matplotlib import pyplot as plt\n",
        "# import datsets\n",
        "from sktime.datasets import load_UCR_UEA_dataset\n",
        "from sktime.datatypes._panel._convert import from_nested_to_3d_numpy\n",
        "from pyts.datasets import load_basic_motions"
      ]
    },
    {
      "cell_type": "code",
      "source": [
        "class reservoir_features:\n",
        "    '''\n",
        "    creates an object associated with a multivariate dataset\n",
        "    \n",
        "    \n",
        "    '''\n",
        "    def __init__(self,data,num_features):\n",
        "        '''\n",
        "        data: Takes in a multidimensional array (x * y * z) - z>y\n",
        "        Initializes it\n",
        "        x: Timeseries\n",
        "        y: Attributes for a given timeseries observation\n",
        "        z: timestamped observations (features)\n",
        "        \n",
        "        num_features: you must specify the dimension you want to reduce it to\n",
        "        \n",
        "        '''\n",
        "        self.features = []\n",
        "        self.filters_used = []\n",
        "        self.original_data = data.copy()\n",
        "        self.data = data.copy()\n",
        "        self.num_features = num_features\n",
        "        self.x = data.shape[0]\n",
        "        self.y = data.shape[1]\n",
        "        self.z = data.shape[2]\n",
        "        # perform checks \n",
        "        #1. 3d numpy array\n",
        "        #2. Each time series should have same number of observations\n",
        "        #3. num_features should be less than timestamped observations\n",
        "    \n",
        "    def normalize(self):\n",
        "        '''\n",
        "        Each attribute could potentially be on a different scale\n",
        "        modifies the original data and performs a min max normalization\n",
        "        '''\n",
        "        for i in range(self.original_data.shape[0]):\n",
        "            for j in range(self.original_data.shape[1]):\n",
        "                self.data[i][j] = (self.original_data[i][j] - self.original_data[i][j].min())/(self.original_data[i][j].max()-self.original_data[i][j].min())\n",
        "    \n",
        "    \n",
        "    def filters(self,stride_len = [1], num_filters = 1):\n",
        "        '''\n",
        "        stride_len: num of columns to skip after each filter multiplication\n",
        "        num_filters: you can specify the number of filters you need; each filter will be of a differnt size\n",
        "        size of filter = n*m \n",
        "        (n = # of rows = attribute size, \n",
        "        m = # of columns)\n",
        "        '''\n",
        "        #Have error check to make sure stride len is a list and value is <length of attributes\n",
        "        n = self.y\n",
        "        \n",
        "        \n",
        "        #Edge case vals is empty/smaller than num_filters\n",
        "        \n",
        "        for iteration in range(num_filters):\n",
        "            m = self._get_m(stride_len[iteration])\n",
        "            filter_a = np.random.random((n,m))\n",
        "            #print(\"filter of size \", str(n), \"*\", str(m), \"was created\\n\")\n",
        "            self.filters_used.append(filter_a)\n",
        "            \n",
        "            temp_features =[]\n",
        "            for i in range(self.x):\n",
        "                temp = []\n",
        "                j = 0\n",
        "                while j + m < self.data.shape[2]:\n",
        "                    temp.append((filter_a*self.data[i,:,j:j+m]).mean())\n",
        "                    j+=stride_len[iteration]\n",
        "                temp_features.append(temp)\n",
        "            self.features.append(temp_features)\n",
        "    \n",
        "    \n",
        "    def _get_m(self,stride_len):\n",
        "        '''\n",
        "        stride_len: \n",
        "        based on stride length,& num_features, we calculate possible filter size \n",
        "        '''\n",
        "        m = self.z -(self.num_features)*stride_len\n",
        "        return m\n",
        "    \n",
        "    \n",
        "    def result_features(self):\n",
        "        '''\n",
        "        if multiple filters were added, takes the average result\n",
        "        '''\n",
        "        ans =[]\n",
        "        for timeseries in range(len(self.features[0])):\n",
        "            temp =[]\n",
        "            for feature in range(len(self.features[0][0])):\n",
        "                val = np.mean([self.features[filter][timeseries][feature] for filter in range(len(self.features))])\n",
        "                temp.append(val)\n",
        "            ans.append(temp)\n",
        "        return ans\n",
        "        "
      ],
      "metadata": {
        "id": "0Z-5M20nRsWl"
      },
      "execution_count": null,
      "outputs": []
    },
    {
      "cell_type": "code",
      "source": [
        "def transform_data(data, num_features, stride_len, num_filters):\n",
        "    data_transformed = reservoir_features(data ,num_features = num_features)\n",
        "    #normalize\n",
        "    data_transformed.normalize()\n",
        "    #create 2 filters\n",
        "    data_transformed.filters(stride_len = stride_len, num_filters = num_filters)\n",
        "    data_transformed = data_transformed.result_features()\n",
        "    return data_transformed"
      ],
      "metadata": {
        "id": "B_dQN7CYQyPt"
      },
      "execution_count": null,
      "outputs": []
    },
    {
      "cell_type": "markdown",
      "source": [
        "## Basic Motions"
      ],
      "metadata": {
        "id": "Oy7BWpNkXf2U"
      }
    },
    {
      "cell_type": "code",
      "source": [
        "X_train, X_test, y_train, y_test = load_basic_motions(return_X_y=True)\n",
        "times = []\n",
        "for _ in range(100):\n",
        "  t0 = time.time()\n",
        "  transform_data(X_train,16,[3],1)\n",
        "  t1 = time.time()\n",
        "  times.append(t1-t0)\n",
        "print(\"Mean Time\",np.mean(times))\n",
        "plt.hist(times)"
      ],
      "metadata": {
        "colab": {
          "base_uri": "https://localhost:8080/",
          "height": 370
        },
        "id": "tkIEpR_ZROe2",
        "outputId": "9743a9eb-f094-4f9b-b95b-0ae61883f96a"
      },
      "execution_count": null,
      "outputs": [
        {
          "output_type": "stream",
          "name": "stdout",
          "text": [
            "Mean Time 0.021639223098754882\n"
          ]
        },
        {
          "output_type": "execute_result",
          "data": {
            "text/plain": [
              "(array([67., 12.,  5.,  2.,  8.,  4.,  1.,  0.,  0.,  1.]),\n",
              " array([0.01788831, 0.02093642, 0.02398453, 0.02703264, 0.03008075,\n",
              "        0.03312886, 0.03617697, 0.03922508, 0.04227319, 0.0453213 ,\n",
              "        0.04836941]),\n",
              " <a list of 10 Patch objects>)"
            ]
          },
          "metadata": {},
          "execution_count": 29
        },
        {
          "output_type": "display_data",
          "data": {
            "text/plain": [
              "<Figure size 432x288 with 1 Axes>"
            ],
            "image/png": "[encoded data removed]"
          },
          "metadata": {
            "needs_background": "light"
          }
        }
      ]
    },
    {
      "cell_type": "markdown",
      "source": [
        "## Articulary Word Recognition"
      ],
      "metadata": {
        "id": "_hNZT2q6XiAp"
      }
    },
    {
      "cell_type": "code",
      "source": [
        "X_train_WR, y_train_WR = load_UCR_UEA_dataset('ArticularyWordRecognition', split=\"train\", return_X_y=True)\n",
        "X_train_3d_WR = from_nested_to_3d_numpy(X_train_WR)\n",
        "times = []\n",
        "for _ in range(100):\n",
        "  t0 = time.time()\n",
        "  transform_data(X_train_3d_WR,40,[3],1)\n",
        "  t1 = time.time()\n",
        "  times.append(t1-t0)\n",
        "print(np.mean(times))\n",
        "plt.hist(times)"
      ],
      "metadata": {
        "colab": {
          "base_uri": "https://localhost:8080/",
          "height": 367
        },
        "id": "bbQexKL-RnT6",
        "outputId": "f0052a00-8728-4a33-e77d-76133132b81f"
      },
      "execution_count": null,
      "outputs": [
        {
          "output_type": "stream",
          "name": "stdout",
          "text": [
            "0.3922791194915771\n"
          ]
        },
        {
          "output_type": "execute_result",
          "data": {
            "text/plain": [
              "(array([76.,  1.,  5.,  8.,  2.,  3.,  1.,  2.,  1.,  1.]),\n",
              " array([0.28429651, 0.3686657 , 0.45303488, 0.53740406, 0.62177324,\n",
              "        0.70614243, 0.79051161, 0.87488079, 0.95924997, 1.04361916,\n",
              "        1.12798834]),\n",
              " <a list of 10 Patch objects>)"
            ]
          },
          "metadata": {},
          "execution_count": 30
        },
        {
          "output_type": "display_data",
          "data": {
            "text/plain": [
              "<Figure size 432x288 with 1 Axes>"
            ],
            "image/png": "[encoded data removed]"
          },
          "metadata": {
            "needs_background": "light"
          }
        }
      ]
    },
    {
      "cell_type": "markdown",
      "source": [
        "## Atrial Fibrillation"
      ],
      "metadata": {
        "id": "ui61YUvsZbr0"
      }
    },
    {
      "cell_type": "code",
      "source": [
        "X_train_AF, y_train_AF = load_UCR_UEA_dataset('AtrialFibrillation', split=\"train\", return_X_y=True)\n",
        "X_train_3d_AF = from_nested_to_3d_numpy(X_train_AF)\n",
        "times = []\n",
        "for _ in range(100):\n",
        "  t0 = time.time()\n",
        "  transform_data(X_train_3d_AF,40,[3],1)\n",
        "  t1 = time.time()\n",
        "  times.append(t1-t0)\n",
        "print(np.mean(times))\n",
        "plt.hist(times)"
      ],
      "metadata": {
        "id": "sNfTIoeDSBm9",
        "colab": {
          "base_uri": "https://localhost:8080/",
          "height": 367
        },
        "outputId": "9d42c82b-1e28-43a8-9e5c-a03ae96696c8"
      },
      "execution_count": null,
      "outputs": [
        {
          "output_type": "stream",
          "name": "stdout",
          "text": [
            "0.027034714221954345\n"
          ]
        },
        {
          "output_type": "execute_result",
          "data": {
            "text/plain": [
              "(array([13.,  1., 10., 54., 15.,  2.,  2.,  1.,  1.,  1.]),\n",
              " array([0.01537895, 0.01889834, 0.02241774, 0.02593713, 0.02945652,\n",
              "        0.03297591, 0.0364953 , 0.0400147 , 0.04353409, 0.04705348,\n",
              "        0.05057287]),\n",
              " <a list of 10 Patch objects>)"
            ]
          },
          "metadata": {},
          "execution_count": 31
        },
        {
          "output_type": "display_data",
          "data": {
            "text/plain": [
              "<Figure size 432x288 with 1 Axes>"
            ],
            "image/png": "[encoded data removed]"
          },
          "metadata": {
            "needs_background": "light"
          }
        }
      ]
    },
    {
      "cell_type": "markdown",
      "source": [
        "## Cricket"
      ],
      "metadata": {
        "id": "WRxiI-cKZkAS"
      }
    },
    {
      "cell_type": "code",
      "source": [
        "X_train_C, y_train_C = load_UCR_UEA_dataset('Cricket', split=\"train\", return_X_y=True)\n",
        "X_train_3d_C = from_nested_to_3d_numpy(X_train_C)\n",
        "times = []\n",
        "for _ in range(100):\n",
        "  t0 = time.time()\n",
        "  transform_data(X_train_3d_C,200,[3],1)\n",
        "  t1 = time.time()\n",
        "  times.append(t1-t0)\n",
        "print(np.mean(times))\n",
        "plt.hist(times)"
      ],
      "metadata": {
        "colab": {
          "base_uri": "https://localhost:8080/",
          "height": 367
        },
        "id": "OZPUwZcjX6Au",
        "outputId": "f6681c7f-5ee4-4f88-fe16-0f18f470d86b"
      },
      "execution_count": null,
      "outputs": [
        {
          "output_type": "stream",
          "name": "stdout",
          "text": [
            "0.6967822623252868\n"
          ]
        },
        {
          "output_type": "execute_result",
          "data": {
            "text/plain": [
              "(array([83.,  3.,  1.,  3.,  1.,  0.,  5.,  3.,  0.,  1.]),\n",
              " array([0.61233544, 0.68791211, 0.76348877, 0.83906543, 0.9146421 ,\n",
              "        0.99021876, 1.06579542, 1.14137208, 1.21694875, 1.29252541,\n",
              "        1.36810207]),\n",
              " <a list of 10 Patch objects>)"
            ]
          },
          "metadata": {},
          "execution_count": 32
        },
        {
          "output_type": "display_data",
          "data": {
            "text/plain": [
              "<Figure size 432x288 with 1 Axes>"
            ],
            "image/png": "[encoded data removed]"
          },
          "metadata": {
            "needs_background": "light"
          }
        }
      ]
    },
    {
      "cell_type": "markdown",
      "source": [
        "## Epilepsy"
      ],
      "metadata": {
        "id": "zuPZMKsaZs8w"
      }
    },
    {
      "cell_type": "code",
      "source": [
        "X_train_E, y_train_E = load_UCR_UEA_dataset('Epilepsy', split=\"train\", return_X_y=True)\n",
        "X_train_3d_E = from_nested_to_3d_numpy(X_train_E)\n",
        "times = []\n",
        "for _ in range(100):\n",
        "  t0 = time.time()\n",
        "  transform_data(X_train_3d_E,16,[3],1)\n",
        "  t1 = time.time()\n",
        "  times.append(t1-t0)\n",
        "print(np.mean(times))\n",
        "plt.hist(times)"
      ],
      "metadata": {
        "colab": {
          "base_uri": "https://localhost:8080/",
          "height": 367
        },
        "id": "4aIWO9_BYEoy",
        "outputId": "2598c561-c173-447c-8655-a616015c2b06"
      },
      "execution_count": null,
      "outputs": [
        {
          "output_type": "stream",
          "name": "stdout",
          "text": [
            "0.06314746856689453\n"
          ]
        },
        {
          "output_type": "execute_result",
          "data": {
            "text/plain": [
              "(array([41., 31., 16.,  5.,  2.,  3.,  0.,  0.,  1.,  1.]),\n",
              " array([0.05702782, 0.06062679, 0.06422577, 0.06782475, 0.07142372,\n",
              "        0.0750227 , 0.07862167, 0.08222065, 0.08581963, 0.0894186 ,\n",
              "        0.09301758]),\n",
              " <a list of 10 Patch objects>)"
            ]
          },
          "metadata": {},
          "execution_count": 33
        },
        {
          "output_type": "display_data",
          "data": {
            "text/plain": [
              "<Figure size 432x288 with 1 Axes>"
            ],
            "image/png": "[encoded data removed]"
          },
          "metadata": {
            "needs_background": "light"
          }
        }
      ]
    },
    {
      "cell_type": "markdown",
      "source": [
        "## Finger Movements"
      ],
      "metadata": {
        "id": "p78DXNKGZy6m"
      }
    },
    {
      "cell_type": "code",
      "source": [
        "X_train_FM, y_train_FM = load_UCR_UEA_dataset('FingerMovements', split=\"train\", return_X_y=True)\n",
        "X_train_3d_FM = from_nested_to_3d_numpy(X_train_FM)\n",
        "times = []\n",
        "for _ in range(100):\n",
        "  t0 = time.time()\n",
        "  transform_data(X_train_3d_FM,16,[3],1)\n",
        "  t1 = time.time()\n",
        "  times.append(t1-t0)\n",
        "print(np.mean(times))\n",
        "plt.hist(times)"
      ],
      "metadata": {
        "colab": {
          "base_uri": "https://localhost:8080/",
          "height": 367
        },
        "id": "SGJ3LBYsYVNL",
        "outputId": "51b908c3-2d20-4162-d170-633823e2d852"
      },
      "execution_count": null,
      "outputs": [
        {
          "output_type": "stream",
          "name": "stdout",
          "text": [
            "0.26134534120559694\n"
          ]
        },
        {
          "output_type": "execute_result",
          "data": {
            "text/plain": [
              "(array([55., 18.,  5.,  1.,  2.,  2.,  3.,  6.,  2.,  6.]),\n",
              " array([0.20852494, 0.23204513, 0.25556531, 0.27908549, 0.30260568,\n",
              "        0.32612586, 0.34964604, 0.37316623, 0.39668641, 0.42020659,\n",
              "        0.44372678]),\n",
              " <a list of 10 Patch objects>)"
            ]
          },
          "metadata": {},
          "execution_count": 34
        },
        {
          "output_type": "display_data",
          "data": {
            "text/plain": [
              "<Figure size 432x288 with 1 Axes>"
            ],
            "image/png": "[encoded data removed]"
          },
          "metadata": {
            "needs_background": "light"
          }
        }
      ]
    },
    {
      "cell_type": "markdown",
      "source": [
        "## Handwriting"
      ],
      "metadata": {
        "id": "Y1oKWzdFaE7W"
      }
    },
    {
      "cell_type": "code",
      "source": [
        "X_train_H, y_train_H = load_UCR_UEA_dataset('Handwriting', split=\"train\", return_X_y=True)\n",
        "X_train_3d_H = from_nested_to_3d_numpy(X_train_H)\n",
        "times = []\n",
        "for _ in range(100):\n",
        "  t0 = time.time()\n",
        "  transform_data(X_train_3d_H,10,[3],1)\n",
        "  t1 = time.time()\n",
        "  times.append(t1-t0)\n",
        "print(np.mean(times))\n",
        "plt.hist(times)"
      ],
      "metadata": {
        "colab": {
          "base_uri": "https://localhost:8080/",
          "height": 367
        },
        "id": "Ajt6OI2rYkR4",
        "outputId": "eb6490d7-8d1d-4315-b044-fba23410d1db"
      },
      "execution_count": null,
      "outputs": [
        {
          "output_type": "stream",
          "name": "stdout",
          "text": [
            "0.052572436332702636\n"
          ]
        },
        {
          "output_type": "execute_result",
          "data": {
            "text/plain": [
              "(array([60., 14.,  6.,  1.,  0.,  8.,  4.,  5.,  1.,  1.]),\n",
              " array([0.04114985, 0.0473047 , 0.05345955, 0.0596144 , 0.06576924,\n",
              "        0.07192409, 0.07807894, 0.08423378, 0.09038863, 0.09654348,\n",
              "        0.10269833]),\n",
              " <a list of 10 Patch objects>)"
            ]
          },
          "metadata": {},
          "execution_count": 36
        },
        {
          "output_type": "display_data",
          "data": {
            "text/plain": [
              "<Figure size 432x288 with 1 Axes>"
            ],
            "image/png": "[encoded data removed]"
          },
          "metadata": {
            "needs_background": "light"
          }
        }
      ]
    },
    {
      "cell_type": "code",
      "source": [
        ""
      ],
      "metadata": {
        "id": "aR_AzNI_aIZX"
      },
      "execution_count": null,
      "outputs": []
    }
  ]
}